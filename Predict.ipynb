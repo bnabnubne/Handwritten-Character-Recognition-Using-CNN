{
 "cells": [
  {
   "cell_type": "code",
   "execution_count": 24,
   "metadata": {},
   "outputs": [],
   "source": [
    "import torch\n",
    "import torch.nn.functional as F\n",
    "from torch import nn,optim\n",
    "from torchvision import transforms\n",
    "from PIL import Image"
   ]
  },
  {
   "cell_type": "code",
   "execution_count": 25,
   "metadata": {},
   "outputs": [],
   "source": [
    "class nnModel(nn.Module):\n",
    "    def __init__(self,num_classes=47,dropout_rate=0):\n",
    "        super(nnModel,self).__init__()\n",
    "        self.conv1=nn.Sequential(nn.Conv2d(1,32,kernel_size=3,stride=1,padding=1),\n",
    "                                 nn.ReLU())\n",
    "        self.conv2=nn.Sequential(nn.Conv2d(32,64,kernel_size=3,stride=1,padding=1),\n",
    "                                 nn.ReLU(),nn.MaxPool2d(kernel_size=2,stride=2))\n",
    "        self.dropout=nn.Dropout(dropout_rate)\n",
    "        self.fc1=nn.Linear(14*14*64,256)\n",
    "        self.fc2=nn.Linear(256,num_classes)\n",
    "    \n",
    "    def forward(self, x):\n",
    "        out = self.conv1(x)\n",
    "        out = self.conv2(out)\n",
    "        out = out.view(out.size(0), -1)#flatten\n",
    "        out = self.fc1(out)\n",
    "        out = F.relu(out)\n",
    "        out = self.dropout(out)\n",
    "        output=F.log_softmax(self.fc2(out),dim=1)\n",
    "        return output\n",
    "        "
   ]
  },
  {
   "cell_type": "code",
   "execution_count": 26,
   "metadata": {},
   "outputs": [
    {
     "name": "stderr",
     "output_type": "stream",
     "text": [
      "/var/folders/3_/prsnqk_51pn2z21bvs32lf100000gn/T/ipykernel_10187/2572324748.py:2: FutureWarning: You are using `torch.load` with `weights_only=False` (the current default value), which uses the default pickle module implicitly. It is possible to construct malicious pickle data which will execute arbitrary code during unpickling (See https://github.com/pytorch/pytorch/blob/main/SECURITY.md#untrusted-models for more details). In a future release, the default value for `weights_only` will be flipped to `True`. This limits the functions that could be executed during unpickling. Arbitrary objects will no longer be allowed to be loaded via this mode unless they are explicitly allowlisted by the user via `torch.serialization.add_safe_globals`. We recommend you start setting `weights_only=True` for any use case where you don't have full control of the loaded file. Please open an issue on GitHub for any issues related to this experimental feature.\n",
      "  model.load_state_dict(torch.load(\"/Users/bnabnubne/ml/PRJ ML/emnist_model_2.pth\", map_location=torch.device('cpu')))  # Replace \"model.pth\" with your path\n"
     ]
    },
    {
     "data": {
      "text/plain": [
       "nnModel(\n",
       "  (conv1): Sequential(\n",
       "    (0): Conv2d(1, 32, kernel_size=(3, 3), stride=(1, 1), padding=(1, 1))\n",
       "    (1): ReLU()\n",
       "  )\n",
       "  (conv2): Sequential(\n",
       "    (0): Conv2d(32, 64, kernel_size=(3, 3), stride=(1, 1), padding=(1, 1))\n",
       "    (1): ReLU()\n",
       "    (2): MaxPool2d(kernel_size=2, stride=2, padding=0, dilation=1, ceil_mode=False)\n",
       "  )\n",
       "  (dropout): Dropout(p=0, inplace=False)\n",
       "  (fc1): Linear(in_features=12544, out_features=256, bias=True)\n",
       "  (fc2): Linear(in_features=256, out_features=47, bias=True)\n",
       ")"
      ]
     },
     "execution_count": 26,
     "metadata": {},
     "output_type": "execute_result"
    }
   ],
   "source": [
    "model = nnModel()\n",
    "model.load_state_dict(torch.load(\"/Users/bnabnubne/ml/PRJ ML/emnist_model_2.pth\", map_location=torch.device('cpu')))  # Replace \"model.pth\" with your path\n",
    "model.eval()"
   ]
  },
  {
   "cell_type": "code",
   "execution_count": 48,
   "metadata": {},
   "outputs": [],
   "source": [
    "# Define the image preprocessing pipeline\n",
    "transform = transforms.Compose([\n",
    "    transforms.Grayscale(),           # Convert image to grayscale if it's RGB\n",
    "    transforms.Resize((28, 28)),      # Resize the image to 28x28\n",
    "    transforms.ToTensor(),            # Convert image to tensor\n",
    "    transforms.Normalize((0.1751,), (0.3332,))  # Normalize pixel values to range [-1, 1]\n",
    "])\n",
    "\n",
    "# Load and preprocess the input image\n",
    "image_path = \"d.jpg\"  \n",
    "image = Image.open(image_path).convert('RGB')  # Ensure image is in RGB format\n",
    "preprocessed_image = transform(image).unsqueeze(0)  # Add batch dimension\n",
    "\n"
   ]
  },
  {
   "cell_type": "code",
   "execution_count": 49,
   "metadata": {},
   "outputs": [
    {
     "data": {
      "image/png": "[encoded data removed]",
      "text/plain": [
       "<Figure size 640x480 with 1 Axes>"
      ]
     },
     "metadata": {},
     "output_type": "display_data"
    }
   ],
   "source": [
    "import matplotlib.pyplot as plt\n",
    "\n",
    "plt.imshow(preprocessed_image.squeeze().numpy(), cmap='gray')\n",
    "plt.title(\"Preprocessed Image\")\n",
    "plt.show()\n"
   ]
  },
  {
   "cell_type": "code",
   "execution_count": 50,
   "metadata": {},
   "outputs": [],
   "source": [
    "# Step 4: Perform Prediction\n",
    "with torch.no_grad():\n",
    "    output = model(preprocessed_image)  # Forward pass\n",
    "    probabilities = F.softmax(output, dim=1)  # Convert logits to probabilities\n",
    "    predicted_class = torch.argmax(probabilities, dim=1).item()\n",
    "\n",
    "\n",
    "# Step 5: Map Class Index to Character\n",
    "class_to_char_map = {\n",
    "    0: '0', 1: '1', 2: '2', 3: '3', 4: '4',\n",
    "    5: '5', 6: '6', 7: '7', 8: '8', 9: '9',\n",
    "    10: 'A', 11: 'B', 12: 'C', 13: 'D', 14: 'E',\n",
    "    15: 'F', 16: 'G', 17: 'H', 18: 'I', 19: 'J',\n",
    "    20: 'K', 21: 'L', 22: 'M', 23: 'N', 24: 'O',\n",
    "    25: 'P', 26: 'Q', 27: 'R', 28: 'S', 29: 'T',\n",
    "    30: 'U', 31: 'V', 32: 'W', 33: 'X', 34: 'Y',\n",
    "    35: 'Z', 36: 'a', 37: 'b', 38: 'c', 39: 'd',\n",
    "    40: 'e', 41: 'f', 42: 'g', 43: 'h', 44: 'i',\n",
    "    45: 'j', 46: 'k'\n",
    "}\n"
   ]
  },
  {
   "cell_type": "code",
   "execution_count": 51,
   "metadata": {},
   "outputs": [
    {
     "name": "stdout",
     "output_type": "stream",
     "text": [
      "Predicted Class Index: 13\n",
      "The predicted character is: D\n"
     ]
    }
   ],
   "source": [
    "\n",
    "predicted_character = class_to_char_map.get(predicted_class, \"Unknown\")\n",
    "print(f\"Predicted Class Index: {predicted_class}\")\n",
    "print(f\"The predicted character is: {predicted_character}\")"
   ]
  },
  {
   "cell_type": "code",
   "execution_count": 52,
   "metadata": {},
   "outputs": [
    {
     "name": "stdout",
     "output_type": "stream",
     "text": [
      "tensor(0.1751) tensor(0.3332)\n"
     ]
    },
    {
     "data": {
      "image/png": "[encoded data removed]",
      "text/plain": [
       "<Figure size 640x480 with 1 Axes>"
      ]
     },
     "metadata": {},
     "output_type": "display_data"
    },
    {
     "data": {
      "image/png": "[encoded data removed]",
      "text/plain": [
       "<Figure size 640x480 with 1 Axes>"
      ]
     },
     "metadata": {},
     "output_type": "display_data"
    },
    {
     "data": {
      "image/png": "[encoded data removed]",
      "text/plain": [
       "<Figure size 640x480 with 1 Axes>"
      ]
     },
     "metadata": {},
     "output_type": "display_data"
    },
    {
     "data": {
      "image/png": "[encoded data removed]",
      "text/plain": [
       "<Figure size 640x480 with 1 Axes>"
      ]
     },
     "metadata": {},
     "output_type": "display_data"
    },
    {
     "data": {
      "image/png": "[encoded data removed]",
      "text/plain": [
       "<Figure size 640x480 with 1 Axes>"
      ]
     },
     "metadata": {},
     "output_type": "display_data"
    }
   ],
   "source": [
    "import numpy as np\n",
    "import pandas as pd\n",
    "import matplotlib.pyplot as plt\n",
    "from torch import nn,optim\n",
    "import torchvision\n",
    "from torchvision import datasets,transforms\n",
    "from torch.utils.data import DataLoader\n",
    "from torch.utils.data import Dataset\n",
    "\n",
    "\n",
    "raw_train_data = datasets.EMNIST(root=\"data\", split=\"balanced\", train=True, download=False)\n",
    "\n",
    "#compute mean and std for normalization\n",
    "mean = raw_train_data.data.float().mean() / 255\n",
    "std = raw_train_data.data.float().std() / 255\n",
    "\n",
    "print(mean,std)\n",
    "#Prepare Data\n",
    "batch_size=64\n",
    "\n",
    "transform=transforms.Compose([transforms.ToTensor(),transforms.Normalize(mean=[mean], std=[std])])\n",
    "\n",
    "train_set=datasets.EMNIST(root='./data', split='balanced', download=False,train=True,transform=transform)\n",
    "train_data=DataLoader(train_set,batch_size=batch_size,shuffle=True)\n",
    "\n",
    "val_set=datasets.EMNIST(root='./data', split='balanced', download=False,transform=transform)\n",
    "val_data=DataLoader(val_set,batch_size=batch_size)\n",
    "\n",
    "\n",
    "import matplotlib.pyplot as plt\n",
    "\n",
    "# Display the first few samples and their labels\n",
    "for i in range(5):  # Adjust the range to display more samples\n",
    "    image, label = train_set[i]  # Access the ith sample\n",
    "    plt.imshow(image.squeeze(), cmap='gray')  # Remove the extra channel for grayscale\n",
    "    plt.title(f\"Label: {label}\")\n",
    "    plt.axis('off')\n",
    "    plt.show()\n"
   ]
  }
 ],
 "metadata": {
  "kernelspec": {
   "display_name": "base",
   "language": "python",
   "name": "python3"
  },
  "language_info": {
   "codemirror_mode": {
    "name": "ipython",
    "version": 3
   },
   "file_extension": ".py",
   "mimetype": "text/x-python",
   "name": "python",
   "nbconvert_exporter": "python",
   "pygments_lexer": "ipython3",
   "version": "3.11.7"
  }
 },
 "nbformat": 4,
 "nbformat_minor": 2
}
